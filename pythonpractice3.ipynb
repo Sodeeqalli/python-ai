{
 "cells": [
  {
   "cell_type": "code",
   "execution_count": 138,
   "metadata": {},
   "outputs": [
    {
     "name": "stdout",
     "output_type": "stream",
     "text": [
      "eg1\n",
      " Ola has 27 ballon\n"
     ]
    }
   ],
   "source": [
    "print (\"Eg1\")\n",
    "number = 5\n",
    "print(\" Ola has {} ballon\".format(27) )"
   ]
  },
  {
   "cell_type": "markdown",
   "metadata": {},
   "source": [
    "Practicing the use of the format function"
   ]
  },
  {
   "cell_type": "code",
   "execution_count": 139,
   "metadata": {},
   "outputs": [
    {
     "name": "stdout",
     "output_type": "stream",
     "text": [
      "Eg2\n",
      "Alli Sodeeq is 19 years old and he is 6 feet, 1 inch tall\n"
     ]
    }
   ],
   "source": [
    "print (\"Eg2\")\n",
    "name = \"Alli Sodeeq\"\n",
    "age = 19\n",
    "feet = 6\n",
    "inches = 1\n",
    "\n",
    "print(\"{} is {} years old and he is {} feet, {} inch tall\".format(name,age,feet, inches))"
   ]
  },
  {
   "cell_type": "markdown",
   "metadata": {},
   "source": [
    "Working with lists"
   ]
  },
  {
   "cell_type": "code",
   "execution_count": 140,
   "metadata": {},
   "outputs": [
    {
     "name": "stdout",
     "output_type": "stream",
     "text": [
      "Anwo\n",
      "Alajo\n",
      "['Sodeeq', 'Timothy']\n",
      "['Anwo', 'Alajo']\n",
      "Sodeeq and Timothy are oaksview boys\n",
      "Anwo and Alajo are valencia boys\n"
     ]
    }
   ],
   "source": [
    "students = ['Sodeeq', 'Timothy', 'Anwo', 'Alajo']\n",
    "print(students[2])\n",
    "print(students[-1])\n",
    "\n",
    "oaksview = students[0:2]\n",
    "valencia = students[2:4]\n",
    "print(oaksview)\n",
    "print(valencia)\n",
    "\n",
    "print(\"{} and {} are oaksview boys\".format(oaksview[0],oaksview[1]))\n",
    "print(\"{} and {} are valencia boys\".format(valencia[0],valencia[1]))\n",
    "\n"
   ]
  },
  {
   "cell_type": "code",
   "execution_count": 141,
   "metadata": {},
   "outputs": [
    {
     "name": "stdout",
     "output_type": "stream",
     "text": [
      "['Timothy', 'Anwo', 'Alajo']\n",
      "['Alajo']\n",
      "['Sodeeq']\n",
      "['Sodeeq', 'Timothy', 'Anwo']\n"
     ]
    }
   ],
   "source": [
    "normalstudents = students[1:]\n",
    "goodstudents = students[3:]\n",
    "excellentstudents = students[:1]\n",
    "outstandingstudents = students[:3]\n",
    "print(normalstudents)\n",
    "print (goodstudents)\n",
    "print(excellentstudents)\n",
    "print(outstandingstudents)"
   ]
  },
  {
   "cell_type": "markdown",
   "metadata": {},
   "source": [
    "Working with  Dictionaries"
   ]
  },
  {
   "cell_type": "code",
   "execution_count": 142,
   "metadata": {},
   "outputs": [
    {
     "name": "stdout",
     "output_type": "stream",
     "text": [
      "15\n"
     ]
    }
   ],
   "source": [
    "grade = { \"Alli\" : 10, \"Timothy\": 10, \"Anwo\": 15, \"Bolaji\": 13}\n",
    "print(grade[\"Anwo\"])"
   ]
  },
  {
   "cell_type": "markdown",
   "metadata": {},
   "source": [
    "Working with Lists"
   ]
  },
  {
   "cell_type": "code",
   "execution_count": 143,
   "metadata": {},
   "outputs": [
    {
     "name": "stdout",
     "output_type": "stream",
     "text": [
      "Timothy\n",
      "4\n"
     ]
    }
   ],
   "source": [
    "print(max(students))\n",
    "print(len(students))\n"
   ]
  },
  {
   "cell_type": "markdown",
   "metadata": {},
   "source": [
    "Control Structure: Loop"
   ]
  },
  {
   "cell_type": "code",
   "execution_count": 144,
   "metadata": {},
   "outputs": [
    {
     "name": "stdout",
     "output_type": "stream",
     "text": [
      "1\n",
      "2\n",
      "3\n",
      "4\n",
      "5\n",
      "6\n",
      "7\n",
      "0\n",
      "1\n",
      "2\n",
      "3\n",
      "4\n",
      "5\n",
      "6\n",
      "7\n",
      "8\n",
      "9\n"
     ]
    }
   ],
   "source": [
    "list = [1,2,3,4,5,6,7]\n",
    "for listElement in list:\n",
    "    print(listElement)\n",
    "\n",
    "for num in range(10):\n",
    "    print(num)"
   ]
  }
 ],
 "metadata": {
  "kernelspec": {
   "display_name": "venv",
   "language": "python",
   "name": "python3"
  },
  "language_info": {
   "codemirror_mode": {
    "name": "ipython",
    "version": 3
   },
   "file_extension": ".py",
   "mimetype": "text/x-python",
   "name": "python",
   "nbconvert_exporter": "python",
   "pygments_lexer": "ipython3",
   "version": "3.11.5"
  },
  "orig_nbformat": 4
 },
 "nbformat": 4,
 "nbformat_minor": 2
}
