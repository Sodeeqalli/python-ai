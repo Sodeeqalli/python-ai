{
 "cells": [
  {
   "cell_type": "markdown",
   "metadata": {},
   "source": [
    "ASSIGNMENT: WORKING WITH CONTROL STRUCTURES IN PYTHON"
   ]
  },
  {
   "cell_type": "markdown",
   "metadata": {},
   "source": [
    "CONDITIONAL STATEMENTS"
   ]
  },
  {
   "cell_type": "code",
   "execution_count": 20,
   "metadata": {},
   "outputs": [
    {
     "name": "stdout",
     "output_type": "stream",
     "text": [
      "B\n"
     ]
    }
   ],
   "source": [
    "# babcock grading system\n",
    "\n",
    "score = 73\n",
    "\n",
    "\n",
    "if score > 0 and score < 30:\n",
    "    print (\"F\")\n",
    "elif score >=30 and score < 40:\n",
    "    print (\"E\")\n",
    "elif score >=40 and score < 50:\n",
    "    print (\"D\")\n",
    "elif score >=50 and score <60:\n",
    "    print (\"C\")\n",
    "elif score >= 60 and score <80:\n",
    "    print ('B')\n",
    "elif score >= 80 and score <101:\n",
    "    print ('A')\n",
    "else:\n",
    "    print ('Invalid Input')"
   ]
  },
  {
   "cell_type": "markdown",
   "metadata": {},
   "source": [
    "FOR IN LOOP\n"
   ]
  },
  {
   "cell_type": "code",
   "execution_count": 21,
   "metadata": {},
   "outputs": [
    {
     "name": "stdout",
     "output_type": "stream",
     "text": [
      "dog\n",
      "cat\n",
      "fish\n",
      "cow\n",
      "monkey\n"
     ]
    }
   ],
   "source": [
    "#printing the name of animals from a list\n",
    "\n",
    "animals = ['dog', 'cat', 'fish', 'cow', 'monkey']\n",
    "\n",
    "for animal in animals:\n",
    "    print(animal)"
   ]
  },
  {
   "cell_type": "markdown",
   "metadata": {},
   "source": [
    "WHILE LOOP"
   ]
  },
  {
   "cell_type": "code",
   "execution_count": 22,
   "metadata": {},
   "outputs": [
    {
     "name": "stdout",
     "output_type": "stream",
     "text": [
      "We are 0 minute late\n",
      "We are 1 minute late\n",
      "We are 2 minutes late\n",
      "We are 3 minutes late\n",
      "We are 4 minutes late\n",
      "We are 5 minutes late\n",
      "We are 6 minutes late\n",
      "We are 7 minutes late\n",
      "We are 8 minutes late\n",
      "We are 9 minutes late\n"
     ]
    }
   ],
   "source": [
    "#performing a task while a condition is true\n",
    "\n",
    "count = 0\n",
    "while count < 10:\n",
    "    if (count<2):\n",
    "       print ('We are {} minute late'.format(count))\n",
    "    else:\n",
    "        print ('We are {} minutes late'.format(count))\n",
    "    count +=1\n"
   ]
  },
  {
   "cell_type": "markdown",
   "metadata": {},
   "source": [
    "USE OF BREAK AND CONTINUE"
   ]
  },
  {
   "cell_type": "code",
   "execution_count": 23,
   "metadata": {},
   "outputs": [
    {
     "name": "stdout",
     "output_type": "stream",
     "text": [
      "0\n",
      "1\n",
      "3\n",
      "4\n",
      "5\n",
      "6\n",
      "7\n"
     ]
    }
   ],
   "source": [
    "#demonstration of the use of break and continue keyword\n",
    "for i in range(10):\n",
    "    if i == 2:\n",
    "        continue\n",
    "    if i == 8:\n",
    "        break\n",
    "    print (i)"
   ]
  },
  {
   "cell_type": "markdown",
   "metadata": {},
   "source": [
    "USE OF FUNCTIONS (CREATING AND CALLING)"
   ]
  },
  {
   "cell_type": "code",
   "execution_count": 41,
   "metadata": {},
   "outputs": [
    {
     "name": "stdout",
     "output_type": "stream",
     "text": [
      "Hi, My name is Alli Sodeeq\n",
      "I am 19 years old\n",
      "I study Computer Science in Babcock University\n"
     ]
    }
   ],
   "source": [
    "\n",
    "\n",
    "#creating function\n",
    "def presentStudent(name, age, course, school):\n",
    "    print ('''Hi, My name is {}\n",
    "I am {} years old\n",
    "I study {} in {}'''.format(name, age, course, school))\n",
    "    \n",
    "#calling the function\n",
    "presentStudent('Alli Sodeeq', '19', 'Computer Science', 'Babcock University')\n",
    "   \n",
    "   \n"
   ]
  },
  {
   "cell_type": "markdown",
   "metadata": {},
   "source": [
    "USING DICT.GET METHOD"
   ]
  },
  {
   "cell_type": "code",
   "execution_count": 43,
   "metadata": {},
   "outputs": [
    {
     "name": "stdout",
     "output_type": "stream",
     "text": [
      "A\n",
      "B\n",
      "Grade not found\n"
     ]
    }
   ],
   "source": [
    "#using dictionary to store student grade\n",
    "\n",
    "#creating dictionary\n",
    "student_grades = {'Alli' : 'A', 'Tunde': 'B', 'Charles': 'C', 'Timothy': 'A'}\n",
    "\n",
    "\n",
    "#accessing values in the dictionary\n",
    "alli_grade = student_grades.get('Alli', 'Grade not found')\n",
    "tunde_grade = student_grades.get('Tunde', 'Grade not found')\n",
    "tolani_grade = student_grades.get('Tolani', 'Grade not found')\n",
    "\n",
    "print(alli_grade)\n",
    "print(tunde_grade)\n",
    "print(tolani_grade)\n"
   ]
  }
 ],
 "metadata": {
  "kernelspec": {
   "display_name": "venv",
   "language": "python",
   "name": "python3"
  },
  "language_info": {
   "codemirror_mode": {
    "name": "ipython",
    "version": 3
   },
   "file_extension": ".py",
   "mimetype": "text/x-python",
   "name": "python",
   "nbconvert_exporter": "python",
   "pygments_lexer": "ipython3",
   "version": "3.11.5"
  },
  "orig_nbformat": 4
 },
 "nbformat": 4,
 "nbformat_minor": 2
}
