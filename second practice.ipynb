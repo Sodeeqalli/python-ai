{
 "cells": [
  {
   "cell_type": "markdown",
   "metadata": {},
   "source": [
    "SECOND PRACTICE "
   ]
  },
  {
   "cell_type": "markdown",
   "metadata": {},
   "source": [
    "CALCULATING TOTAL NUMBER OF CALORIES BURNT IN A WEEK"
   ]
  },
  {
   "cell_type": "code",
   "execution_count": 10,
   "metadata": {},
   "outputs": [
    {
     "name": "stdout",
     "output_type": "stream",
     "text": [
      "The total number of calories burnt during the week is 335\n"
     ]
    }
   ],
   "source": [
    "\n",
    "monday_cal = 60\n",
    "tuesday_cal = 100\n",
    "wednesday_cal = 20\n",
    "thursday_cal = 80\n",
    "friday_cal =75\n",
    "\n",
    "total_cal_burnt = (monday_cal+tuesday_cal+wednesday_cal+thursday_cal+friday_cal)\n",
    "\n",
    "print('The total number of calories burnt during the week is {}'.format(total_cal_burnt))"
   ]
  },
  {
   "cell_type": "markdown",
   "metadata": {},
   "source": [
    "USING THE JOIN FUNCTION ON LISTS"
   ]
  },
  {
   "cell_type": "code",
   "execution_count": 13,
   "metadata": {},
   "outputs": [
    {
     "name": "stdout",
     "output_type": "stream",
     "text": [
      "Tissues\n",
      "Detergent\n",
      "Soap\n",
      "Sponge\n"
     ]
    }
   ],
   "source": [
    "my_grocery_list = \"\\n\".join([\"Tissues\", \"Detergent\", \"Soap\", \"Sponge\"])\n",
    "\n",
    "print(my_grocery_list)"
   ]
  },
  {
   "cell_type": "code",
   "execution_count": 19,
   "metadata": {},
   "outputs": [
    {
     "name": "stdout",
     "output_type": "stream",
     "text": [
      "Kevin De Bruyne-Messi-Suarez-Iwobi\n"
     ]
    }
   ],
   "source": [
    "related_players = \"-\".join([\"Kevin De Bruyne\", \"Messi\", \"Suarez\", \"Iwobi\"])\n",
    "print (related_players)"
   ]
  },
  {
   "cell_type": "markdown",
   "metadata": {},
   "source": [
    "USING APPEND FUNCTION TO ADD AN ELEMENT TO THE END OF A LIST"
   ]
  },
  {
   "cell_type": "code",
   "execution_count": 20,
   "metadata": {},
   "outputs": [
    {
     "name": "stdout",
     "output_type": "stream",
     "text": [
      "Artificial Intelligence\n",
      "Machine Learning\n",
      "Web Design\n",
      "Compiler Construction\n",
      "Computer Organization and architecture\n"
     ]
    }
   ],
   "source": [
    "my_courses = [\"Artificial Intelligence\", \"Machine Learning\", \"Web Design\", \"Compiler Construction\"]\n",
    "\n",
    "my_courses.append(\"Computer Organization and architecture\")\n",
    "\n",
    "courses_list = \"\\n\".join(my_courses)\n",
    "\n",
    "print(courses_list)"
   ]
  },
  {
   "cell_type": "code",
   "execution_count": null,
   "metadata": {},
   "outputs": [],
   "source": []
  }
 ],
 "metadata": {
  "kernelspec": {
   "display_name": "venv",
   "language": "python",
   "name": "python3"
  },
  "language_info": {
   "codemirror_mode": {
    "name": "ipython",
    "version": 3
   },
   "file_extension": ".py",
   "mimetype": "text/x-python",
   "name": "python",
   "nbconvert_exporter": "python",
   "pygments_lexer": "ipython3",
   "version": "3.11.5"
  },
  "orig_nbformat": 4
 },
 "nbformat": 4,
 "nbformat_minor": 2
}
