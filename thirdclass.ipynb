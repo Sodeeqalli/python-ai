{
 "cells": [
  {
   "cell_type": "code",
   "execution_count": 3,
   "metadata": {},
   "outputs": [
    {
     "name": "stdout",
     "output_type": "stream",
     "text": [
      "Requirement already satisfied: gtts in ./venv/lib/python3.11/site-packages (2.4.0)\n",
      "Requirement already satisfied: requests<3,>=2.27 in ./venv/lib/python3.11/site-packages (from gtts) (2.31.0)\n",
      "Requirement already satisfied: click<8.2,>=7.1 in ./venv/lib/python3.11/site-packages (from gtts) (8.1.7)\n",
      "Requirement already satisfied: charset-normalizer<4,>=2 in ./venv/lib/python3.11/site-packages (from requests<3,>=2.27->gtts) (3.3.0)\n",
      "Requirement already satisfied: idna<4,>=2.5 in ./venv/lib/python3.11/site-packages (from requests<3,>=2.27->gtts) (3.4)\n",
      "Requirement already satisfied: urllib3<3,>=1.21.1 in ./venv/lib/python3.11/site-packages (from requests<3,>=2.27->gtts) (2.0.6)\n",
      "Requirement already satisfied: certifi>=2017.4.17 in ./venv/lib/python3.11/site-packages (from requests<3,>=2.27->gtts) (2023.7.22)\n",
      "Note: you may need to restart the kernel to use updated packages.\n"
     ]
    }
   ],
   "source": [
    "pip install gtts\n"
   ]
  },
  {
   "cell_type": "code",
   "execution_count": 4,
   "metadata": {},
   "outputs": [],
   "source": [
    "from gtts import gTTS\n",
    "import IPython.display as ipd\n",
    "\n",
    "\n"
   ]
  },
  {
   "cell_type": "code",
   "execution_count": 8,
   "metadata": {},
   "outputs": [],
   "source": [
    "text = input(\"What do you want to say\")\n"
   ]
  },
  {
   "cell_type": "code",
   "execution_count": 12,
   "metadata": {},
   "outputs": [],
   "source": [
    "tts = gTTS(text, lang='en', tld='com', slow=False)"
   ]
  },
  {
   "cell_type": "code",
   "execution_count": 13,
   "metadata": {},
   "outputs": [],
   "source": [
    "tts.save(\"output.mp3\")"
   ]
  },
  {
   "cell_type": "code",
   "execution_count": 14,
   "metadata": {},
   "outputs": [
    {
     "data": {
      "text/html": [
       "\n",
       "                <audio  controls=\"controls\" >\n",
       "                    <source src=\"data:audio/mpeg;base64,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\" type=\"audio/mpeg\" />\n",
       "                    Your browser does not support the audio element.\n",
       "                </audio>\n",
       "              "
      ],
      "text/plain": [
       "<IPython.lib.display.Audio object>"
      ]
     },
     "execution_count": 14,
     "metadata": {},
     "output_type": "execute_result"
    }
   ],
   "source": [
    "ipd.Audio(\"output.mp3\")"
   ]
  }
 ],
 "metadata": {
  "kernelspec": {
   "display_name": "venv",
   "language": "python",
   "name": "python3"
  },
  "language_info": {
   "codemirror_mode": {
    "name": "ipython",
    "version": 3
   },
   "file_extension": ".py",
   "mimetype": "text/x-python",
   "name": "python",
   "nbconvert_exporter": "python",
   "pygments_lexer": "ipython3",
   "version": "3.11.5"
  },
  "orig_nbformat": 4
 },
 "nbformat": 4,
 "nbformat_minor": 2
}
